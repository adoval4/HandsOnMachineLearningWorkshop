{
 "cells": [
  {
   "cell_type": "markdown",
   "metadata": {},
   "source": [
    "# Aula 04 - Decision Trees (Árvores de decisão)\n",
    "\n",
    "### Temas:\n",
    "    0. Treinar e visualizar um decision tree  \n",
    "    1. Fazer prediçoes \n",
    "    2. Estimar probabilidades das clases\n",
    "    3. Algoritmo CART (Classification and Regression Tree) \n",
    "    4. Complexidade computacional\n",
    "    5. Gini impurity o Entropy?\n",
    "    6. Regularizaçâo\n",
    "    7. Regressão\n",
    "    8. Inestabilidade\n"
   ]
  },
  {
   "cell_type": "code",
   "execution_count": null,
   "metadata": {
    "collapsed": true
   },
   "outputs": [],
   "source": []
  }
 ],
 "metadata": {
  "kernelspec": {
   "display_name": "Python 2",
   "language": "python",
   "name": "python2"
  },
  "language_info": {
   "codemirror_mode": {
    "name": "ipython",
    "version": 2
   },
   "file_extension": ".py",
   "mimetype": "text/x-python",
   "name": "python",
   "nbconvert_exporter": "python",
   "pygments_lexer": "ipython2",
   "version": "2.7.14"
  }
 },
 "nbformat": 4,
 "nbformat_minor": 0
}
