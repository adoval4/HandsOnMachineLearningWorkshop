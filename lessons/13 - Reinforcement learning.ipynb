{
 "cells": [
  {
   "cell_type": "markdown",
   "metadata": {},
   "source": [
    "# Aula 13 - Reinforcement learning\n",
    "\n",
    "### Temas:\n",
    "    1. Aprender a otimizar recompensas\n",
    "    2. Policy search\n",
    "    3. Intro ao OpenAI Gym\n",
    "    4. Neural network policies \n",
    "    5. Avaliar ações \n",
    "    6. Policy gradients\n",
    "    7. Processo de decisão de Markov\n",
    "    8. Temporal difference learning e Q-learning\n",
    "    9. Aprender a jogar PacMan com Deep Q-Learning"
   ]
  }
 ],
 "metadata": {
  "kernelspec": {
   "display_name": "Python 2",
   "language": "python",
   "name": "python2"
  },
  "language_info": {
   "codemirror_mode": {
    "name": "ipython",
    "version": 2
   },
   "file_extension": ".py",
   "mimetype": "text/x-python",
   "name": "python",
   "nbconvert_exporter": "python",
   "pygments_lexer": "ipython2",
   "version": "2.7.14"
  }
 },
 "nbformat": 4,
 "nbformat_minor": 0
}
