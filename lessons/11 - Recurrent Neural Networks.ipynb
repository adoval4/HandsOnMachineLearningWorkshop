{
 "cells": [
  {
   "cell_type": "markdown",
   "metadata": {},
   "source": [
    "# Aula 11 - Recurrent Neural Networks\n",
    "\n",
    "### Temas:\n",
    "    1. Recurrent Neurons\n",
    "    2. Basic RNN\n",
    "    3. Treinar uma RNN\n",
    "    4. Deep RNN\n",
    "    5. LSTM Cell (Long Short Term Memory Cell)\n",
    "    6. GRU Cell\n",
    "    7. Procesamento de linguagem natural"
   ]
  },
  {
   "cell_type": "code",
   "execution_count": null,
   "metadata": {
    "collapsed": true
   },
   "outputs": [],
   "source": []
  }
 ],
 "metadata": {
  "kernelspec": {
   "display_name": "Python 2",
   "language": "python",
   "name": "python2"
  },
  "language_info": {
   "codemirror_mode": {
    "name": "ipython",
    "version": 2
   },
   "file_extension": ".py",
   "mimetype": "text/x-python",
   "name": "python",
   "nbconvert_exporter": "python",
   "pygments_lexer": "ipython2",
   "version": "2.7.14"
  }
 },
 "nbformat": 4,
 "nbformat_minor": 0
}
