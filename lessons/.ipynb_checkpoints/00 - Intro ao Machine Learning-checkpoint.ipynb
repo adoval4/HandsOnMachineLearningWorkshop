{
 "cells": [
  {
   "cell_type": "markdown",
   "metadata": {},
   "source": [
    "# Intro ao Machine Learning\n",
    "\n",
    "### Temas:\n",
    "    1. O que é Machine Learning (aprendizagem de máquina)?\n",
    "    2. Por que usar Machine Learning?\n",
    "    3. Tipos de Machine Learning\n",
    "    4. Principais desafios ao trabalhar com Machine Learning\n",
    "    5. Como enfrentar um projeto de Machine Learning\n"
   ]
  },
  {
   "cell_type": "code",
   "execution_count": null,
   "metadata": {
    "collapsed": true
   },
   "outputs": [],
   "source": []
  }
 ],
 "metadata": {
  "kernelspec": {
   "display_name": "Python 2",
   "language": "python",
   "name": "python2"
  },
  "language_info": {
   "codemirror_mode": {
    "name": "ipython",
    "version": 2
   },
   "file_extension": ".py",
   "mimetype": "text/x-python",
   "name": "python",
   "nbconvert_exporter": "python",
   "pygments_lexer": "ipython2",
   "version": "2.7.14"
  }
 },
 "nbformat": 4,
 "nbformat_minor": 0
}
