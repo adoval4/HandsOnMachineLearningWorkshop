{
 "cells": [
  {
   "cell_type": "markdown",
   "metadata": {},
   "source": [
    "# Aula 04 - Decision Trees (Árvores de decisão)\n",
    "\n",
    "### Temas:\n",
    "    1. Treinar e visualizar um decision tree  \n",
    "    2. Fazer prediçoes \n",
    "    3. Estimar probabilidades das clases\n",
    "    4. Algoritmo CART (Classification and Regression Tree) \n",
    "    5. Complexidade computacional\n",
    "    6. Gini impurity o Entropy?\n",
    "    7. Regularizaçâo\n",
    "    8. Regressão\n",
    "    9. Inestabilidade\n"
   ]
  },
  {
   "cell_type": "code",
   "execution_count": null,
   "metadata": {
    "collapsed": true
   },
   "outputs": [],
   "source": []
  }
 ],
 "metadata": {
  "kernelspec": {
   "display_name": "Python 2",
   "language": "python",
   "name": "python2"
  },
  "language_info": {
   "codemirror_mode": {
    "name": "ipython",
    "version": 2
   },
   "file_extension": ".py",
   "mimetype": "text/x-python",
   "name": "python",
   "nbconvert_exporter": "python",
   "pygments_lexer": "ipython2",
   "version": "2.7.14"
  }
 },
 "nbformat": 4,
 "nbformat_minor": 0
}
