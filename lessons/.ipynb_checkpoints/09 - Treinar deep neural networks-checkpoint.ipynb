{
 "cells": [
  {
   "cell_type": "markdown",
   "metadata": {},
   "source": [
    "# Aula 09 - Treinar deep neural networks\n",
    "\n",
    "### Temas:\n",
    "    0. Gradientes que desaparecem o explodem\n",
    "    1. Optimizadores\n",
    "    2. Evitar overfitting\n",
    "    3. Trasnfer Learning (Reusar layers já treinadas)\n",
    "    4. Fine-Tuning Hyperparameters\n",
    "    5. Guia prática"
   ]
  },
  {
   "cell_type": "code",
   "execution_count": null,
   "metadata": {
    "collapsed": true
   },
   "outputs": [],
   "source": []
  }
 ],
 "metadata": {
  "kernelspec": {
   "display_name": "Python 2",
   "language": "python",
   "name": "python2"
  },
  "language_info": {
   "codemirror_mode": {
    "name": "ipython",
    "version": 2
   },
   "file_extension": ".py",
   "mimetype": "text/x-python",
   "name": "python",
   "nbconvert_exporter": "python",
   "pygments_lexer": "ipython2",
   "version": "2.7.14"
  }
 },
 "nbformat": 4,
 "nbformat_minor": 0
}
