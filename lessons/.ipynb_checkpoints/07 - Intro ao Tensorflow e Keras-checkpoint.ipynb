{
 "cells": [
  {
   "cell_type": "markdown",
   "metadata": {},
   "source": [
    "# Aula 07 - Intro ao Tensorflow\n",
    "\n",
    "### Temas:\n",
    "    0. Os frameworks do deep learning\n",
    "    1. Installation\n",
    "    2. Primeiro Graph e Session\n",
    "    3. Gerenciar graphs\n",
    "    4. Ciclo de vida de um node value\n",
    "    5. Linear regression com Tensorflow\n",
    "    6. Implementar o gradient descent\n",
    "    7. Fornecer os dados\n",
    "    8. Salvar e restaurar um modelo\n",
    "    9. Visualização do graph e curvas de treinamento com tensorboard\n",
    "    10. Name scopes\n",
    "    11. Modularity\n",
    "    12. Compartilhando variáveis"
   ]
  },
  {
   "cell_type": "code",
   "execution_count": null,
   "metadata": {
    "collapsed": true
   },
   "outputs": [],
   "source": []
  }
 ],
 "metadata": {
  "kernelspec": {
   "display_name": "Python 2",
   "language": "python",
   "name": "python2"
  },
  "language_info": {
   "codemirror_mode": {
    "name": "ipython",
    "version": 2
   },
   "file_extension": ".py",
   "mimetype": "text/x-python",
   "name": "python",
   "nbconvert_exporter": "python",
   "pygments_lexer": "ipython2",
   "version": "2.7.14"
  }
 },
 "nbformat": 4,
 "nbformat_minor": 0
}
