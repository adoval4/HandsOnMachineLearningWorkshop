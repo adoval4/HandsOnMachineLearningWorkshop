{
 "cells": [
  {
   "cell_type": "markdown",
   "metadata": {},
   "source": [
    "# Aula 02 - Treinar Modelos\n",
    "\n",
    "### Temas:\n",
    "    0. Regressão linear\n",
    "    1. Como o modelo aprende?: Gradient Descent\n",
    "    2. Regressão polinomial\n",
    "    3. Como ver se o modelo está aprendendo?: Curvas de aprendizagem\n",
    "    4. Modelos lineares regularizados: Ridge, Lasso, etc. \n",
    "    5. Logistic Regression\n",
    "    6. Softmax Regression\n"
   ]
  },
  {
   "cell_type": "code",
   "execution_count": null,
   "metadata": {
    "collapsed": true
   },
   "outputs": [],
   "source": []
  }
 ],
 "metadata": {
  "kernelspec": {
   "display_name": "Python 2",
   "language": "python",
   "name": "python2"
  },
  "language_info": {
   "codemirror_mode": {
    "name": "ipython",
    "version": 2
   },
   "file_extension": ".py",
   "mimetype": "text/x-python",
   "name": "python",
   "nbconvert_exporter": "python",
   "pygments_lexer": "ipython2",
   "version": "2.7.14"
  }
 },
 "nbformat": 4,
 "nbformat_minor": 0
}
