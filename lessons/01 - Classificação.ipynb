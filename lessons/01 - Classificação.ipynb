{
 "cells": [
  {
   "cell_type": "markdown",
   "metadata": {},
   "source": [
    "# Aula 01 - Classificação\n",
    "\n",
    "### Temas:\n",
    "    0. Por que classificar?\n",
    "    1. Um dataset famoso: MNIST\n",
    "    2. Treinar um classificador binario\n",
    "    3. Medir a performance de um classificador\n",
    "    4. Classificação de varias clases (multiclass)\n",
    "    5. Análise de erro\n",
    "    6. Classificação multilabel\n",
    "    7. Classificação multiouput "
   ]
  },
  {
   "cell_type": "code",
   "execution_count": null,
   "metadata": {
    "collapsed": true
   },
   "outputs": [],
   "source": []
  }
 ],
 "metadata": {
  "kernelspec": {
   "display_name": "Python 2",
   "language": "python",
   "name": "python2"
  },
  "language_info": {
   "codemirror_mode": {
    "name": "ipython",
    "version": 2
   },
   "file_extension": ".py",
   "mimetype": "text/x-python",
   "name": "python",
   "nbconvert_exporter": "python",
   "pygments_lexer": "ipython2",
   "version": "2.7.14"
  }
 },
 "nbformat": 4,
 "nbformat_minor": 0
}
