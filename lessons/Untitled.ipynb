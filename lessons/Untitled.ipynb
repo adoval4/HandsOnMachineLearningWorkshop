{
 "cells": [
  {
   "cell_type": "markdown",
   "metadata": {},
   "source": [
    "# Aula 09 - Intro to Artificial Neural Networks\n",
    "\n",
    "### Temas:\n",
    "    0. Da biologia ao artificial\n",
    "    1. DNN só com Tensorflow\n",
    "    2. DNN com Keras (Tensorflow como backend)\n",
    "    3. Fine-Tuning Hyperparameters"
   ]
  }
 ],
 "metadata": {
  "kernelspec": {
   "display_name": "Python 2",
   "language": "python",
   "name": "python2"
  },
  "language_info": {
   "codemirror_mode": {
    "name": "ipython",
    "version": 2
   },
   "file_extension": ".py",
   "mimetype": "text/x-python",
   "name": "python",
   "nbconvert_exporter": "python",
   "pygments_lexer": "ipython2",
   "version": "2.7.14"
  }
 },
 "nbformat": 4,
 "nbformat_minor": 0
}
