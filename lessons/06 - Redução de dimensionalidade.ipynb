{
 "cells": [
  {
   "cell_type": "markdown",
   "metadata": {},
   "source": [
    "# Aula 06 - Redução de dimensionalidade (Dimesionality reduction)\n",
    "\n",
    "### Temas:\n",
    "    1. A maldição da dimensionalidade\n",
    "    2. Principais abordagens\n",
    "    3. PCA (Principal component analysis)\n",
    "    4. Kernel PCA\n",
    "    5. LLE (Locally Linear Embedding)\n",
    "    6. t-SNE (t-distributed stochastic neighbor embedding)"
   ]
  },
  {
   "cell_type": "code",
   "execution_count": null,
   "metadata": {
    "collapsed": true
   },
   "outputs": [],
   "source": []
  }
 ],
 "metadata": {
  "kernelspec": {
   "display_name": "Python 2",
   "language": "python",
   "name": "python2"
  },
  "language_info": {
   "codemirror_mode": {
    "name": "ipython",
    "version": 2
   },
   "file_extension": ".py",
   "mimetype": "text/x-python",
   "name": "python",
   "nbconvert_exporter": "python",
   "pygments_lexer": "ipython2",
   "version": "2.7.14"
  }
 },
 "nbformat": 4,
 "nbformat_minor": 0
}
