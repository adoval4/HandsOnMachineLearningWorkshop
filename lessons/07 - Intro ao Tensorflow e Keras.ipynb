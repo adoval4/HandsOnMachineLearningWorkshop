{
 "cells": [
  {
   "cell_type": "markdown",
   "metadata": {},
   "source": [
    "# Aula 07 - Intro ao Tensorflow\n",
    "\n",
    "### Temas:\n",
    "    0. Os frameworks do deep learning\n",
    "    1. Installation\n",
    "    2. Primeiro Graph e Session\n",
    "    3. Gerenciar graphs\n",
    "    4. Ciclo de vida de um node value\n",
    "    5. Linear regression com Tensorflow\n",
    "    6. Implementar o gradient descent\n",
    "    7. Fornecer os dados\n",
    "    8. Salvar e restaurar um modelo\n",
    "    9. Visualização do graph e curvas de treinamento com tensorboard\n",
    "    10. Name scopes\n",
    "    11. Modularity\n",
    "    12. Compartilhando variáveis"
   ]
  },
  {
   "cell_type": "markdown",
   "metadata": {
    "collapsed": true
   },
   "source": [
    "## 0. Os frameworks do deep learning\n",
    "\n",
    "Coleções de bibliotecas e ferramentas que nos permitem implementar modelos de aprendizado profundo a partir de zero.\n",
    "\n",
    "Os mais famosos são:\n",
    "1. __Tensorflow__: do Google. O mais famoso. Python. Static Graph. Bom para pesquisa é produção. \n",
    "2. __Keras__: High-level para Tensorflow o Theano. Python.\n",
    "3. __Caffe__: da Berkeley Vision and Learning Center. C++. O mais diverso Model Zoo.\n",
    "4. __Torch__: Lua. Flexible (dynamic graph)\n",
    "5. __PyTorch__: Python. Flexible (dynamic graph). Creciente no mundo das pesquisas.\n",
    "\n",
    "Vamos a começar por Tensorflow é depois dar uma mirada a Keras é PyTorch.\n",
    "\n",
    "### Tensorflow\n",
    "\n",
    "Libreria Open source para computação numérica particularmente útil para large-scale machine learning (ejm. deep learning).\n",
    "\n",
    "__Principio: Você define em python um gráfico computacional e o Tensorflow irá transformá-lo em código C ++ eficiente que pode ser quebrado para funcionar em várias CPU ou GPUs.__\n",
    "\n",
    "Que é um gráfico computational o _computational graph_? \n",
    "\n",
    "Um exemplo:\n",
    "\n",
    "Pergunta: O resultado com b=2, c=3.\n",
    "![title](files/img/Simple-graph-example-260x300.png)\n",
    "\n",
    "<br>\n",
    "<br>\n",
    "Outro exemplo: O graph do Batch Normalization\n",
    "![title](files/img/batch-norm-computational-graph.png)\n"
   ]
  },
  {
   "cell_type": "markdown",
   "metadata": {},
   "source": [
    "## 1. Instalação\n",
    "\n",
    "Revisar [a guia de instalação de Tensorflow](https://www.tensorflow.org/install/) \n",
    "\n",
    "### Installing with Virtualenv (Copiado da guía)\n",
    "Take the following steps to install TensorFlow with Virtualenv:\n",
    "\n",
    "1. Install pip and Virtualenv by issuing one of the following commands:\n",
    "<br>\n",
    "<br>\n",
    "`\n",
    "$ sudo apt-get install python-pip python-dev python-virtualenv # for Python 2.7\n",
    "$ sudo apt-get install python3-pip python3-dev python-virtualenv # for Python 3.n\n",
    "`\n",
    "<br>\n",
    "<br>\n",
    "2. Create a Virtualenv environment by issuing one of the following commands:\n",
    "<br>\n",
    "<br>\n",
    "`\n",
    "$ virtualenv --system-site-packages targetDirectory # for Python 2.7\n",
    "$ virtualenv --system-site-packages -p python3 targetDirectory # for Python 3.n\n",
    "`\n",
    "<br>\n",
    "<br>\n",
    "where targetDirectory specifies the top of the Virtualenv tree. Our instructions assume that targetDirectory is ~/tensorflow, but you may choose any directory.\n",
    "<br>\n",
    "<br>\n",
    "3. Activate the Virtualenv environment by issuing one of the following commands:\n",
    "<br>\n",
    "<br>\n",
    "`\n",
    "$ source ~/tensorflow/bin/activate # bash, sh, ksh, or zsh\n",
    "$ source ~/tensorflow/bin/activate.csh  # csh or tcsh\n",
    "`\n",
    "<br>\n",
    "<br>\n",
    "\n",
    "4. Ensure pip ≥8.1 is installed:\n",
    "<br>\n",
    "<br>\n",
    "`\n",
    "(tensorflow)$ easy_install -U pip\n",
    "`\n",
    "\n",
    "`5.` Issue one of the following commands to install TensorFlow in the active Virtualenv environment:\n",
    "<br>\n",
    "<br>\n",
    "`\n",
    "(tensorflow)$ pip install --upgrade tensorflow      # for Python 2.7\n",
    "(tensorflow)$ pip3 install --upgrade tensorflow     # for Python 3.n\n",
    "(tensorflow)$ pip install --upgrade tensorflow-gpu  # for Python 2.7 and GPU\n",
    "(tensorflow)$ pip3 install --upgrade tensorflow-gpu # for Python 3.n and GPU\n",
    "`\n",
    "<br>\n",
    "<br>\n",
    "If the above command succeeds, skip Step 6. If the preceding command fails, perform Step 6.\n",
    "<br>\n",
    "<br>"
   ]
  },
  {
   "cell_type": "markdown",
   "metadata": {
    "collapsed": true
   },
   "source": []
  }
 ],
 "metadata": {
  "kernelspec": {
   "display_name": "Python 2",
   "language": "python",
   "name": "python2"
  },
  "language_info": {
   "codemirror_mode": {
    "name": "ipython",
    "version": 2
   },
   "file_extension": ".py",
   "mimetype": "text/x-python",
   "name": "python",
   "nbconvert_exporter": "python",
   "pygments_lexer": "ipython2",
   "version": "2.7.14"
  }
 },
 "nbformat": 4,
 "nbformat_minor": 0
}
