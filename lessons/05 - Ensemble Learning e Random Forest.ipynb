{
 "cells": [
  {
   "cell_type": "markdown",
   "metadata": {},
   "source": [
    "# Aula 05 - Ensemble Learning e Random Forest\n",
    "\n",
    "### Temas:\n",
    "    1. Classificadores de votação (Voting Classifiers) \n",
    "    2. Bagging, pasting, random patches e random subspaces\n",
    "    3. Random Forest\n",
    "    4. Boosting \n",
    "    5. Stacking\n",
    "\n"
   ]
  }
 ],
 "metadata": {
  "kernelspec": {
   "display_name": "Python 2",
   "language": "python",
   "name": "python2"
  },
  "language_info": {
   "codemirror_mode": {
    "name": "ipython",
    "version": 2
   },
   "file_extension": ".py",
   "mimetype": "text/x-python",
   "name": "python",
   "nbconvert_exporter": "python",
   "pygments_lexer": "ipython2",
   "version": "2.7.14"
  }
 },
 "nbformat": 4,
 "nbformat_minor": 0
}
