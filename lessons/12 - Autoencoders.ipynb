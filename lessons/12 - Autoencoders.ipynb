{
 "cells": [
  {
   "cell_type": "markdown",
   "metadata": {},
   "source": [
    "# Aula 12 - Autoencoders\n",
    "\n",
    "### Temas:\n",
    "    1. Representação eficiente de dados\n",
    "    2. PCA como autoencoder\n",
    "    3. Stacked Autoencoders\n",
    "    4. Pretreinar de forma nâo supervisada um classificador CNN usando um autoencoder \n",
    "    5. Denoising dos autoencoders\n",
    "    6. Sparse autoencoders\n",
    "    7. Variational autoencoders\n",
    "    8. Outros autoencoders"
   ]
  },
  {
   "cell_type": "code",
   "execution_count": null,
   "metadata": {
    "collapsed": true
   },
   "outputs": [],
   "source": []
  }
 ],
 "metadata": {
  "kernelspec": {
   "display_name": "Python 2",
   "language": "python",
   "name": "python2"
  },
  "language_info": {
   "codemirror_mode": {
    "name": "ipython",
    "version": 2
   },
   "file_extension": ".py",
   "mimetype": "text/x-python",
   "name": "python",
   "nbconvert_exporter": "python",
   "pygments_lexer": "ipython2",
   "version": "2.7.14"
  }
 },
 "nbformat": 4,
 "nbformat_minor": 0
}
